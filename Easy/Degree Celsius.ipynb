{
 "cells": [
  {
   "cell_type": "markdown",
   "metadata": {},
   "source": [
    "# Degree Celsius"
   ]
  },
  {
   "cell_type": "markdown",
   "metadata": {},
   "source": [
    "Problem Statement<br>\n",
    "Tom is a scientist. He uses huge machines for complex calculations. There is a problem, the machines takes input as Fahrenheit and Tom has the temperatures in Degree Celsius. As he is busy with his work, he asks your help to convert Degree Celsius to Fahrenheit.<br>\n",
    "<br>\n",
    "Input<br>\n",
    "The first and only line of the input consists of a single integer T denoting temperature in Degree Celsius.<br>\n",
    "<br>\n",
    "Output<br>\n",
    "Print an integer denoting temperature in Fahrenheit.<br>\n",
    "<br>\n",
    "Constraints<br>\n",
    "0<=T<=1000<br>\n",
    "<br>\n",
    "Sample Input<br>\n",
    "<br>\n",
    "100<br>\n",
    "<br>\n",
    "Sample Output<br>\n",
    "<br>\n",
    "212<br>"
   ]
  },
  {
   "cell_type": "code",
   "execution_count": 4,
   "metadata": {},
   "outputs": [
    {
     "name": "stdout",
     "output_type": "stream",
     "text": [
      "100\n",
      "212\n"
     ]
    }
   ],
   "source": [
    "c = int(input()) #get the celsius input\n",
    "f = (c*(9/5))+32 #run the formula to convert celcius to farenheit, you can search for the physics explanation\n",
    "print(int(f)) #just print the result as an integer, because when you divide something python automatically changes it to a float"
   ]
  },
  {
   "cell_type": "code",
   "execution_count": null,
   "metadata": {},
   "outputs": [],
   "source": []
  }
 ],
 "metadata": {
  "kernelspec": {
   "display_name": "Python 3",
   "language": "python",
   "name": "python3"
  },
  "language_info": {
   "codemirror_mode": {
    "name": "ipython",
    "version": 3
   },
   "file_extension": ".py",
   "mimetype": "text/x-python",
   "name": "python",
   "nbconvert_exporter": "python",
   "pygments_lexer": "ipython3",
   "version": "3.7.1"
  }
 },
 "nbformat": 4,
 "nbformat_minor": 2
}
