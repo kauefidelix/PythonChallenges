{
 "cells": [
  {
   "cell_type": "markdown",
   "metadata": {},
   "source": [
    "# José learns inglés"
   ]
  },
  {
   "cell_type": "markdown",
   "metadata": {},
   "source": [
    "Problem Statement<br>\n",
    "José is from South America and hence, Spanish is his mother tongue. He wants to travel around the world and, therefore, decides to learn various languages, starting with English. He tries to learn the alphabetical order.. You being a good teacher will help him in doing so. He said he would learn just by asking questions. You have to answer his questions. You will be given few characters. You need to arrange them in alphabetical order and print them. NOTE: Do not mind the case. (example : 'D' will come after 'a' in alphabetical order)<br>\n",
    "<br>\n",
    "Input<br>\n",
    "First line of input is N, the number of characters. Next line contains N space-separated characters.<br>\n",
    "<br>\n",
    "Output<br>\n",
    "Print the characters in ascending form<br>\n",
    "<br>\n",
    "Constraints<br>\n",
    "1 ≤ N ≤ 26 It is guaranteed that no character will be repeated.<br>\n",
    "<br>\n",
    "Sample Input<br>\n",
    "4<br>\n",
    "D c a M<br>\n",
    "<br>\n",
    "Sample Output<br>\n",
    "<br>\n",
    "a c D M<br>"
   ]
  },
  {
   "cell_type": "code",
   "execution_count": 3,
   "metadata": {},
   "outputs": [
    {
     "name": "stdout",
     "output_type": "stream",
     "text": [
      "4\n",
      "DcaM\n",
      "acDM\n"
     ]
    }
   ],
   "source": [
    "a = input() #get the first input line\n",
    "s = input() #get the second one\n",
    "c = sorted(s, key=lambda c:(c.lower(), c.islower())) #sort them out\n",
    "print((''.join(c)).lstrip()) #print the result removing the white spaces"
   ]
  },
  {
   "cell_type": "code",
   "execution_count": null,
   "metadata": {},
   "outputs": [],
   "source": []
  }
 ],
 "metadata": {
  "kernelspec": {
   "display_name": "Python 3",
   "language": "python",
   "name": "python3"
  },
  "language_info": {
   "codemirror_mode": {
    "name": "ipython",
    "version": 3
   },
   "file_extension": ".py",
   "mimetype": "text/x-python",
   "name": "python",
   "nbconvert_exporter": "python",
   "pygments_lexer": "ipython3",
   "version": "3.7.1"
  }
 },
 "nbformat": 4,
 "nbformat_minor": 2
}
