{
 "cells": [
  {
   "cell_type": "markdown",
   "metadata": {},
   "source": [
    "# FizzBuzz Challenge - Easy"
   ]
  },
  {
   "cell_type": "markdown",
   "metadata": {},
   "source": [
    "Write a code that play the game of FizzBuzz.\n",
    "In a range of numbers, return fizz when its a multiple of 3, return buzz if its a multiple of 5, FizzBuzz if its a multiple of both, or return just the number if it isnt a multiple of neither"
   ]
  },
  {
   "cell_type": "code",
   "execution_count": 8,
   "metadata": {},
   "outputs": [],
   "source": [
    "# First we create a def, so its easier to use whatever numbers we want and be able to edit it in the future\n",
    "\n",
    "def FizzBuzz(a, b): # Define what we will be using inside it\n",
    "    \n",
    "    # We will use a and b for the range boundries\n",
    "    \n",
    "    for x in range(a, b): # Iterate trough all the numbers in this range\n",
    "        \n",
    "        if x % 5 == 0 and x % 3 == 0: # If the number in the range is a multiple of 5 AND 3\n",
    "            # The FizzBuzz must come first\n",
    "            # If FizzBuzz isnt the fisrt one, the loop will stop and restart if the condition is match\n",
    "            # In this case that means it would only print Fizz or Buzz, because they require just one condition as true\n",
    "            \n",
    "            print(\"FizzBuzz\") # You can use return here if you want to store it in a string\n",
    "            \n",
    "        elif x % 5 == 0: # If the first isnt true, then check if its only a multiple of 5\n",
    "            print(\"Buzz\")\n",
    "            \n",
    "        elif x % 3 == 0:# If both return false, then we check if its a multiple of 3\n",
    "            print(\"Fizz\")\n",
    "            \n",
    "        else: # If everything else is false, then we just return our number\n",
    "            print(x)"
   ]
  },
  {
   "cell_type": "code",
   "execution_count": 9,
   "metadata": {},
   "outputs": [
    {
     "name": "stdout",
     "output_type": "stream",
     "text": [
      "FizzBuzz\n",
      "1\n",
      "2\n",
      "Fizz\n",
      "4\n",
      "Buzz\n",
      "Fizz\n",
      "7\n",
      "8\n",
      "Fizz\n"
     ]
    }
   ],
   "source": [
    "FizzBuzz(0, 10)"
   ]
  },
  {
   "cell_type": "code",
   "execution_count": null,
   "metadata": {},
   "outputs": [],
   "source": []
  }
 ],
 "metadata": {
  "kernelspec": {
   "display_name": "Python 3",
   "language": "python",
   "name": "python3"
  },
  "language_info": {
   "codemirror_mode": {
    "name": "ipython",
    "version": 3
   },
   "file_extension": ".py",
   "mimetype": "text/x-python",
   "name": "python",
   "nbconvert_exporter": "python",
   "pygments_lexer": "ipython3",
   "version": "3.7.1"
  }
 },
 "nbformat": 4,
 "nbformat_minor": 2
}
