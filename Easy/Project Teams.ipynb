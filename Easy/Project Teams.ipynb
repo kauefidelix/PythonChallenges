{
 "cells": [
  {
   "cell_type": "markdown",
   "metadata": {},
   "source": [
    "# Project Teams"
   ]
  },
  {
   "cell_type": "markdown",
   "metadata": {},
   "source": [
    "Problem Statement<br>\n",
    "There are N students in a class and Teacher want to divide these students into some groups . Teacher told  that groups consisting of two or less students not allowed , so Teacher want to have as many groups consisting of three or more students as possible. Divide the students so that the number of groups consisting of three or more students is maximized.<br>\n",
    "<br>\n",
    "Input<br>\n",
    "Single integer N<br>\n",
    "<br>\n",
    "Output<br>\n",
    "Maximum number of groups can be formed<br>\n",
    "<br>\n",
    "Constraints<br>\n",
    "1<=N<100000<br>\n",
    "<br>\n",
    "Sample Input<br>\n",
    "6<br>\n",
    "<br>\n",
    "Sample Output<br>\n",
    "<br>\n",
    "2<br>"
   ]
  },
  {
   "cell_type": "code",
   "execution_count": 2,
   "metadata": {},
   "outputs": [
    {
     "name": "stdout",
     "output_type": "stream",
     "text": [
      "6\n",
      "2\n"
     ]
    }
   ],
   "source": [
    "students = int(input()) #grab our input as an integer\n",
    "groups = students/3 #divide the number of students for how many will be in each group\n",
    "print(int(groups)) #print the result!"
   ]
  },
  {
   "cell_type": "code",
   "execution_count": null,
   "metadata": {},
   "outputs": [],
   "source": []
  }
 ],
 "metadata": {
  "kernelspec": {
   "display_name": "Python 3",
   "language": "python",
   "name": "python3"
  },
  "language_info": {
   "codemirror_mode": {
    "name": "ipython",
    "version": 3
   },
   "file_extension": ".py",
   "mimetype": "text/x-python",
   "name": "python",
   "nbconvert_exporter": "python",
   "pygments_lexer": "ipython3",
   "version": "3.7.1"
  }
 },
 "nbformat": 4,
 "nbformat_minor": 2
}
