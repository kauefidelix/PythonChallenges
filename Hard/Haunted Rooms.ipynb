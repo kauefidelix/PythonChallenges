{
 "cells": [
  {
   "cell_type": "markdown",
   "metadata": {},
   "source": [
    "# HAUNTED ROOMS"
   ]
  },
  {
   "cell_type": "markdown",
   "metadata": {},
   "source": [
    "(i will just copy the whole chalange prompt)\n",
    "Problem Statement<br>\n",
    "Students of Cambridge University went for a Hack-a-thon in Massachusetts. They decided to stay there overnight. So they all went in a hotel named Hawthorne Hotel. The hotel is represented here by a rectangular matrix of rooms. Matrix cell value contains the cost of that room. Some of the rooms in the hotel are available for free (cost=0). Upon further investigation by the President Nicole, he got to know that the rooms are for free because they are haunted. So, being responsible for the safety of all the team members, he decided not to book the rooms if it satisfies any of the below conditions: 1] Room is haunted 2] Room's below a haunted room in same column These rooms are unsafe! Help Nicole to calculate the total price of all the suitable safe rooms for the team.<br>\n",
    "<br>\n",
    "Input<br>\n",
    "[2 Dimensional array] The first line contains a positive integer N(number of rows) and M(number of columns) Each of the next N lines contains M space separated integers denoting a row of the matrix. Each element of the matrix represent the cost of that room.<br>\n",
    "<br>\n",
    "Output<br>\n",
    "Single integer denoting the sum of the cost of all the safe rooms<br>\n",
    "<br>\n",
    "Constraints<br>\n",
    "1 ≤ matrix.length ≤ 5 1 ≤ matrix[i].length ≤ 5 0 ≤ matrix[i][j] ≤ 10<br>\n",
    "<br>\n",
    "Sample Input<br>\n",
    "3 4<br>\n",
    "0 1 1 0<br>\n",
    "0 5 0 2<br>\n",
    "2 0 3 3<br>\n",
    "<br>\n",
    "Sample Output<br>\n",
    "<br>\n",
    "7"
   ]
  },
  {
   "cell_type": "code",
   "execution_count": 14,
   "metadata": {},
   "outputs": [
    {
     "name": "stdout",
     "output_type": "stream",
     "text": [
      "3 4\n"
     ]
    }
   ],
   "source": [
    "#First we define our variable\n",
    "inp = input() #we get the input for n and m (we dont use m)\n",
    "rooms = [] #create our empty rooms list\n",
    "n = int(inp[0]) #extract our n as an integer from the input\n",
    "final_price = 0 #define the final price, we don't need it to be here though"
   ]
  },
  {
   "cell_type": "code",
   "execution_count": 15,
   "metadata": {},
   "outputs": [],
   "source": [
    "def get_input(n, rooms): #define a function to get all the inputs\n",
    "    for x in range(0,n): #this will iterate trough all the lines of input, this way we capture infinite rooms\n",
    "        a = input()  #get the input of each one\n",
    "        rooms.append(list(a)) #create a nested list for each row (floor)"
   ]
  },
  {
   "cell_type": "code",
   "execution_count": 16,
   "metadata": {},
   "outputs": [],
   "source": [
    "def remove_haunted(n, rooms, final_price): #this is the tricky logic, first we create the func\n",
    "    g = 0 #Create a variable that will be our index counter for each room\n",
    "    for x in range(0,n): #we iterate trough the list of lists\n",
    "        for y in rooms[x]: #we iterate trough the specific list in order from first to last\n",
    "            if y == '0': #if we find a 0 then all the floors below must be 0 too\n",
    "                if x+1 < n: #this is important not to get a index out of range error, we stop before n, because n is 1+ out of range (lists start with index 0)\n",
    "                    rooms[x+1][g] = '0' #we change the index of each floor below beeing x+1 the row (floor) and g our index from what rooms are haunted and must be 0, because of that rule of columns\n",
    "            if y != \" \": #to not get an error, we need to sum only when there is a number, not a space\n",
    "                final_price += int(y) #just add the reimaining safe rooms prices to the final price\n",
    "            g += 1 #we sum 1 to the index of the room we are looking at in this floor\n",
    "        g = 0 #we set the index back to 0 because the loop will start again in the next floor\n",
    "    return final_price #just return the final price"
   ]
  },
  {
   "cell_type": "code",
   "execution_count": 17,
   "metadata": {},
   "outputs": [
    {
     "name": "stdout",
     "output_type": "stream",
     "text": [
      "0 1 1 0\n",
      "0 5 0 2\n",
      "2 0 3 3\n"
     ]
    }
   ],
   "source": [
    "get_input(n, rooms) #run to get the matrix of the rooms"
   ]
  },
  {
   "cell_type": "code",
   "execution_count": 18,
   "metadata": {},
   "outputs": [
    {
     "name": "stdout",
     "output_type": "stream",
     "text": [
      "7\n"
     ]
    }
   ],
   "source": [
    "print(remove_haunted(n, rooms, final_price)) #run our func to get the final price :D"
   ]
  },
  {
   "cell_type": "code",
   "execution_count": null,
   "metadata": {},
   "outputs": [],
   "source": []
  }
 ],
 "metadata": {
  "kernelspec": {
   "display_name": "Python 3",
   "language": "python",
   "name": "python3"
  },
  "language_info": {
   "codemirror_mode": {
    "name": "ipython",
    "version": 3
   },
   "file_extension": ".py",
   "mimetype": "text/x-python",
   "name": "python",
   "nbconvert_exporter": "python",
   "pygments_lexer": "ipython3",
   "version": "3.7.1"
  }
 },
 "nbformat": 4,
 "nbformat_minor": 2
}
