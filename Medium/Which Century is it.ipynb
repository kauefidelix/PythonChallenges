{
 "cells": [
  {
   "cell_type": "markdown",
   "metadata": {},
   "source": [
    "# Which Century is it?"
   ]
  },
  {
   "cell_type": "markdown",
   "metadata": {},
   "source": [
    "You will be given a year, write a code that prints the century it belongs to in its ordinal form(19th, 21st, 20th, etc.)\n"
   ]
  },
  {
   "cell_type": "markdown",
   "metadata": {},
   "source": [
    "Constraints: 1<= year <= 3000"
   ]
  },
  {
   "cell_type": "code",
   "execution_count": 12,
   "metadata": {},
   "outputs": [],
   "source": [
    "def century(input_year): # The only parameter we need is the input\n",
    "    \n",
    "    cent = int(input_year)/100 # Get the float century\n",
    "    c = \"\" # We just need this to return it\n",
    "    \n",
    "    if cent > int(cent): # This is the catch, if the float value is higher than the int value, that means we have to add 1\n",
    "        c = int(cent)+1 # Just add one if thats true, an example is 2001, the float will be higher than the int, and we know for fact that its 21st cent\n",
    "    else:\n",
    "        c = int(cent) # If thats not true, then we just need the int value\n",
    "    return c # Return the century"
   ]
  },
  {
   "cell_type": "code",
   "execution_count": 13,
   "metadata": {},
   "outputs": [],
   "source": [
    "ordinal_list = [\"1st\", \"2nd\", \"3rd\", \"4th\", \"5th\", \"6th\", \"7th\", \"8th\", \"9th\", \"10th\", \"11th\", \"12th\", \"13th\", \"14th\", \"15th\", \"16th\", \"17th\", \"18th\", \"19th\", \"20th\", \"21st\", \"22nd\", \"23rd\", \"24th\", \"25th\", \"26th\", \"27th\", \"28th\", \"29th\", \"30th\", \"31st\"]\n",
    "# There is no way around it, we will need a dict, a list or something else to store all values, we can stop at 30th"
   ]
  },
  {
   "cell_type": "code",
   "execution_count": 14,
   "metadata": {},
   "outputs": [
    {
     "name": "stdout",
     "output_type": "stream",
     "text": [
      "2012\n",
      "21st\n"
     ]
    }
   ],
   "source": [
    "print(ordinal_list[century(input())-1]) # We print the index of that list that represents our century in nominal form\n",
    "# As the index starts in 0, we have to subtract 1, or just fill the 0 index with anything and use just century(input())"
   ]
  },
  {
   "cell_type": "code",
   "execution_count": null,
   "metadata": {},
   "outputs": [],
   "source": []
  }
 ],
 "metadata": {
  "kernelspec": {
   "display_name": "Python 3",
   "language": "python",
   "name": "python3"
  },
  "language_info": {
   "codemirror_mode": {
    "name": "ipython",
    "version": 3
   },
   "file_extension": ".py",
   "mimetype": "text/x-python",
   "name": "python",
   "nbconvert_exporter": "python",
   "pygments_lexer": "ipython3",
   "version": "3.7.1"
  }
 },
 "nbformat": 4,
 "nbformat_minor": 2
}
